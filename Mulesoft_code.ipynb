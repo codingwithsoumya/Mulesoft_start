{
 "cells": [
  {
   "cell_type": "code",
   "execution_count": 11,
   "source": [
    "import sqlite3\r\n",
    "con = sqlite3.connect('Movies1db.db')"
   ],
   "outputs": [],
   "metadata": {}
  },
  {
   "cell_type": "code",
   "execution_count": 12,
   "source": [
    "cur = con.cursor()\r\n",
    "\r\n",
    "# Create table\r\n",
    "cur.execute('''CREATE TABLE MOVIE_NAMES\r\n",
    "               (MName text, LActor text, LActress text, DName text, YOR text)''')\r\n"
   ],
   "outputs": [
    {
     "output_type": "execute_result",
     "data": {
      "text/plain": [
       "<sqlite3.Cursor at 0x1d3c4b5f640>"
      ]
     },
     "metadata": {},
     "execution_count": 12
    }
   ],
   "metadata": {}
  },
  {
   "cell_type": "code",
   "execution_count": 13,
   "source": [
    "# Insert a row of data\r\n",
    "cur.execute(\"INSERT INTO MOVIE_NAMES VALUES ('CLANNAD','TOMOYA OKAZAKI','NAGISA FURUKAWA', 'KEY STUDIOS', '2007')\")\r\n",
    "cur.execute(\"INSERT INTO MOVIE_NAMES VALUES('VIOLET EVERGARDEN','MAJOR GILBERT', 'VIOLET', 'KYOTO ANIMATION', '2021')\")\r\n",
    "cur.execute(\"INSERT INTO MOVIE_NAMES VALUES('A SILENT VOICE','SHOYA ISHIDA', 'SHOKO NISHIMIYA', 'NAOKO YAMADA', '2017')\")\r\n",
    "cur.execute(\"INSERT INTO MOVIE_NAMES VALUES('KANON','AIZAWA YUICHI', 'MAKOTO SAWATARI', 'JUN MAEDA', '2006')\")\r\n",
    "cur.execute(\"INSERT INTO MOVIE_NAMES VALUES('GOLDEN TIME','BANRI TADA', 'KAGA KOKO', 'JC STAFF', '2014')\")\r\n",
    "\r\n",
    "# Save (commit) the changes\r\n",
    "con.commit()"
   ],
   "outputs": [],
   "metadata": {}
  },
  {
   "cell_type": "code",
   "execution_count": 8,
   "source": [
    "#cur.execute(\"SELECT * FROM MOVIE\")"
   ],
   "outputs": [],
   "metadata": {}
  },
  {
   "cell_type": "code",
   "execution_count": 5,
   "source": [
    "#print(cur.fetchall())"
   ],
   "outputs": [],
   "metadata": {}
  },
  {
   "cell_type": "code",
   "execution_count": 15,
   "source": [
    "for row in cur.execute('SELECT * FROM MOVIE_NAMES'):\r\n",
    "        print(row)"
   ],
   "outputs": [
    {
     "output_type": "stream",
     "name": "stdout",
     "text": [
      "('CLANNAD', 'TOMOYA OKAZAKI', 'NAGISA FURUKAWA', 'KEY STUDIOS', '2007')\n",
      "('VIOLET EVERGARDEN', 'MAJOR GILBERT', 'VIOLET', 'KYOTO ANIMATION', '2021')\n",
      "('A SILENT VOICE', 'SHOYA ISHIDA', 'SHOKO NISHIMIYA', 'NAOKO YAMADA', '2017')\n",
      "('KANON', 'AIZAWA YUICHI', 'MAKOTO SAWATARI', 'JUN MAEDA', '2006')\n",
      "('GOLDEN TIME', 'BANRI TADA', 'KAGA KOKO', 'JC STAFF', '2014')\n"
     ]
    }
   ],
   "metadata": {}
  },
  {
   "cell_type": "markdown",
   "source": [],
   "metadata": {}
  },
  {
   "cell_type": "code",
   "execution_count": 17,
   "source": [
    "cur.execute(\"SELECT * FROM MOVIE_NAMES WHERE LActor = 'BANRI TADA'\")\r\n",
    "print(cur.fetchall())"
   ],
   "outputs": [
    {
     "output_type": "stream",
     "name": "stdout",
     "text": [
      "[('GOLDEN TIME', 'BANRI TADA', 'KAGA KOKO', 'JC STAFF', '2014')]\n"
     ]
    }
   ],
   "metadata": {}
  },
  {
   "cell_type": "code",
   "execution_count": null,
   "source": [],
   "outputs": [],
   "metadata": {}
  }
 ],
 "metadata": {
  "interpreter": {
   "hash": "af2f0e1aa6bcfb373bd90aa13c3b5228fefddd14b3cffcf8611c724db03a2fc7"
  },
  "kernelspec": {
   "name": "python3",
   "display_name": "Python 3.10.2 64-bit"
  },
  "language_info": {
   "codemirror_mode": {
    "name": "ipython",
    "version": 3
   },
   "file_extension": ".py",
   "mimetype": "text/x-python",
   "name": "python",
   "nbconvert_exporter": "python",
   "pygments_lexer": "ipython3",
   "version": "3.10.2"
  },
  "orig_nbformat": 4
 },
 "nbformat": 4,
 "nbformat_minor": 2
}